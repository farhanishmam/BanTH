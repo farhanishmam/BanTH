{
 "cells": [
  {
   "cell_type": "code",
   "execution_count": 1,
   "id": "95efc896",
   "metadata": {
    "_cell_guid": "b1076dfc-b9ad-4769-8c92-a6c4dae69d19",
    "_uuid": "8f2839f25d086af736a60e9eeb907d3b93b6e0e5",
    "execution": {
     "iopub.execute_input": "2024-10-11T08:43:51.704586Z",
     "iopub.status.busy": "2024-10-11T08:43:51.704125Z",
     "iopub.status.idle": "2024-10-11T08:43:52.816357Z",
     "shell.execute_reply": "2024-10-11T08:43:52.815114Z"
    },
    "papermill": {
     "duration": 1.124453,
     "end_time": "2024-10-11T08:43:52.819382",
     "exception": false,
     "start_time": "2024-10-11T08:43:51.694929",
     "status": "completed"
    },
    "tags": []
   },
   "outputs": [
    {
     "name": "stdout",
     "output_type": "stream",
     "text": [
      "/kaggle/input/banth-hate-multilabel/banglahatebert-hate-test.csv\n",
      "/kaggle/input/banth-hate-multilabel/indicbert-hate-test.csv\n",
      "/kaggle/input/banth-hate-multilabel/banglishbert-hate-test.csv\n",
      "/kaggle/input/banth-hate-multilabel/charbert-hate-test.csv\n",
      "/kaggle/input/banth-hate-multilabel/mbert_multilabel_predictions.csv\n",
      "/kaggle/input/banth-hate-multilabel/mbert-hate-test.csv\n",
      "/kaggle/input/banth-hate-multilabel/vacbert-hate-test.csv\n",
      "/kaggle/input/banth-hate-multilabel/tbbert-hate-test.csv\n",
      "/kaggle/input/banth-hate-multilabel/tbbanglabert-hate-test.csv\n",
      "/kaggle/input/banth-hate-multilabel/tbmbert-hate-test.csv\n",
      "/kaggle/input/banth-hate-multilabel/tb-banglishbert-hate-test.csv\n",
      "/kaggle/input/banth-hate-multilabel/sagorbertbase-hate-test.csv\n",
      "/kaggle/input/banth-hate-multilabel/cuetbanglabert-hate-test.csv\n",
      "/kaggle/input/banth-hate-multilabel/indicbert_multilabel_predictions.csv\n",
      "/kaggle/input/banth-hate-multilabel/muril-hate-test.csv\n",
      "/kaggle/input/gpt4o-outputs/gpt4o_outputs/multilabel_translation/output/gpt-4o/gpt4o__english_multilabel.csv\n",
      "/kaggle/input/gpt4o-outputs/gpt4o_outputs/multilabel_translation/output/gpt-4o/gpt4o__bangla_multilabel.csv\n",
      "/kaggle/input/gpt4o-outputs/gpt4o_outputs/binary_translation/output/gpt-4o/gpt4o__english_binary_test.csv\n",
      "/kaggle/input/gpt4o-outputs/gpt4o_outputs/binary_translation/output/gpt-4o/gpt4o__bangla_binary_test.csv\n",
      "/kaggle/input/gpt4o-outputs/gpt4o_outputs/binary_few_shot/output/gpt-4o/gpt4o__cot_binary_test.csv\n",
      "/kaggle/input/gpt4o-outputs/gpt4o_outputs/binary_few_shot/output/gpt-4o/gpt4o__no_reason_binary_test.csv\n",
      "/kaggle/input/gpt4o-outputs/gpt4o_outputs/binary_few_shot/output/gpt-4o/gpt4o__yes_reason_binary_test.csv\n",
      "/kaggle/input/gpt4o-outputs/gpt4o_outputs/multilabel_few_shot/output/gpt-4o/gpt4o__yes_reason_multilabel_test.csv\n",
      "/kaggle/input/gpt4o-outputs/gpt4o_outputs/multilabel_few_shot/output/gpt-4o/gpt4o__no_reason_multilabel_test.csv\n",
      "/kaggle/input/gpt4o-outputs/gpt4o_outputs/multilabel_few_shot/output/gpt-4o/gpt4o__cot_multilabel_test.csv\n",
      "/kaggle/input/gpt4o-outputs/gpt4o_outputs/multilabel_zero_shot/output/gpt-4o/gpt4o__yes_reason_multilabel_test.csv\n",
      "/kaggle/input/gpt4o-outputs/gpt4o_outputs/multilabel_zero_shot/output/gpt-4o/gpt4o__no_reason_multilabel_test.csv\n",
      "/kaggle/input/gpt4o-outputs/gpt4o_outputs/multilabel_zero_shot/output/gpt-4o/gpt4o__cot_multilabel_test.csv\n",
      "/kaggle/input/gpt4o-outputs/gpt4o_outputs/binary_zero_shot/output/gpt-4o/gpt4o__cot_binary_test.csv\n",
      "/kaggle/input/gpt4o-outputs/gpt4o_outputs/binary_zero_shot/output/gpt-4o/gpt4o__no_reason_binary_test.csv\n",
      "/kaggle/input/gpt4o-outputs/gpt4o_outputs/binary_zero_shot/output/gpt-4o/gpt4o__yes_reason_binary_test.csv\n",
      "/kaggle/input/gpt3-5-outputs/gpt3.5_outputs/binary_few_shot/output/gpt-3.5/gpt3.5__yes_reason_binary_test.csv\n",
      "/kaggle/input/gpt3-5-outputs/gpt3.5_outputs/binary_few_shot/output/gpt-3.5/gpt3.5__cot_binary_test.csv\n",
      "/kaggle/input/gpt3-5-outputs/gpt3.5_outputs/binary_few_shot/output/gpt-3.5/gpt3.5__no_reason_binary_test.csv\n",
      "/kaggle/input/gpt3-5-outputs/gpt3.5_outputs/multilabel_few_shot/output/gpt-3.5/gpt3.5__no_reason_multilabel_test.csv\n",
      "/kaggle/input/gpt3-5-outputs/gpt3.5_outputs/multilabel_few_shot/output/gpt-3.5/gpt3.5__cot_multilabel_test.csv\n",
      "/kaggle/input/gpt3-5-outputs/gpt3.5_outputs/multilabel_few_shot/output/gpt-3.5/gpt3.5__yes_reason_multilabel_test.csv\n",
      "/kaggle/input/gpt3-5-outputs/gpt3.5_outputs/multilabel_zero_shot/output/gpt-3.5/gpt3.5__no_reason_multilabel_test.csv\n",
      "/kaggle/input/gpt3-5-outputs/gpt3.5_outputs/multilabel_zero_shot/output/gpt-3.5/gpt3.5__cot_multilabel_test.csv\n",
      "/kaggle/input/gpt3-5-outputs/gpt3.5_outputs/multilabel_zero_shot/output/gpt-3.5/gpt3.5__yes_reason_multilabel_test.csv\n",
      "/kaggle/input/gpt3-5-outputs/gpt3.5_outputs/binary_zero_shot/output/gpt-3.5/gpt3.5__yes_reason_binary_test.csv\n",
      "/kaggle/input/gpt3-5-outputs/gpt3.5_outputs/binary_zero_shot/output/gpt-3.5/gpt3.5__cot_binary_test.csv\n",
      "/kaggle/input/gpt3-5-outputs/gpt3.5_outputs/binary_zero_shot/output/gpt-3.5/gpt3.5__no_reason_binary_test.csv\n",
      "/kaggle/input/banth-dataset/val.csv\n",
      "/kaggle/input/banth-dataset/train.csv\n",
      "/kaggle/input/banth-dataset/test.csv\n"
     ]
    }
   ],
   "source": [
    "# This Python 3 environment comes with many helpful analytics libraries installed\n",
    "# It is defined by the kaggle/python Docker image: https://github.com/kaggle/docker-python\n",
    "# For example, here's several helpful packages to load\n",
    "\n",
    "import numpy as np # linear algebra\n",
    "import pandas as pd # data processing, CSV file I/O (e.g. pd.read_csv)\n",
    "\n",
    "# Input data files are available in the read-only \"../input/\" directory\n",
    "# For example, running this (by clicking run or pressing Shift+Enter) will list all files under the input directory\n",
    "\n",
    "import os\n",
    "for dirname, _, filenames in os.walk('/kaggle/input'):\n",
    "    for filename in filenames:\n",
    "        print(os.path.join(dirname, filename))\n",
    "\n",
    "# You can write up to 20GB to the current directory (/kaggle/working/) that gets preserved as output when you create a version using \"Save & Run All\" \n",
    "# You can also write temporary files to /kaggle/temp/, but they won't be saved outside of the current session"
   ]
  },
  {
   "cell_type": "code",
   "execution_count": 2,
   "id": "27ce2dd5",
   "metadata": {
    "execution": {
     "iopub.execute_input": "2024-10-11T08:43:52.836159Z",
     "iopub.status.busy": "2024-10-11T08:43:52.835093Z",
     "iopub.status.idle": "2024-10-11T08:43:54.386057Z",
     "shell.execute_reply": "2024-10-11T08:43:54.385016Z"
    },
    "papermill": {
     "duration": 1.562351,
     "end_time": "2024-10-11T08:43:54.388975",
     "exception": false,
     "start_time": "2024-10-11T08:43:52.826624",
     "status": "completed"
    },
    "tags": []
   },
   "outputs": [],
   "source": [
    "from sklearn.metrics import f1_score, precision_score, recall_score, accuracy_score, hamming_loss"
   ]
  },
  {
   "cell_type": "markdown",
   "id": "a557503e",
   "metadata": {
    "papermill": {
     "duration": 0.006719,
     "end_time": "2024-10-11T08:43:54.402846",
     "exception": false,
     "start_time": "2024-10-11T08:43:54.396127",
     "status": "completed"
    },
    "tags": []
   },
   "source": [
    "### binary function"
   ]
  },
  {
   "cell_type": "code",
   "execution_count": 3,
   "id": "dedd1e41",
   "metadata": {
    "execution": {
     "iopub.execute_input": "2024-10-11T08:43:54.419440Z",
     "iopub.status.busy": "2024-10-11T08:43:54.418319Z",
     "iopub.status.idle": "2024-10-11T08:43:54.428661Z",
     "shell.execute_reply": "2024-10-11T08:43:54.427467Z"
    },
    "papermill": {
     "duration": 0.021413,
     "end_time": "2024-10-11T08:43:54.431309",
     "exception": false,
     "start_time": "2024-10-11T08:43:54.409896",
     "status": "completed"
    },
    "tags": []
   },
   "outputs": [],
   "source": [
    "import numpy as np\n",
    "from sklearn.metrics import confusion_matrix, accuracy_score, precision_score, recall_score, f1_score\n",
    "\n",
    "def calculate_binary_metrics(y_true, y_pred):\n",
    "    # Calculate confusion matrix\n",
    "    tn, fp, fn, tp = confusion_matrix(y_true, y_pred).ravel()\n",
    "    \n",
    "    # Calculate metrics with different averaging\n",
    "    metrics = {\n",
    "        'F1_Macro': f1_score(y_true, y_pred, average='macro'),\n",
    "        # 'F1_Micro': f1_score(y_true, y_pred, average='micro'),\n",
    "\n",
    "        'Accuracy_Macro': accuracy_score(y_true, y_pred),  # For binary, macro and micro are the same\n",
    "        # 'Accuracy_Micro': accuracy_score(y_true, y_pred),  # Included for consistency\n",
    "        \n",
    "        'Precision_Macro': precision_score(y_true, y_pred, average='macro'),\n",
    "        # 'Precision_Micro': precision_score(y_true, y_pred, average='micro'),\n",
    "        \n",
    "        'Recall_Macro': recall_score(y_true, y_pred, average='macro'),\n",
    "        # 'Recall_Micro': recall_score(y_true, y_pred, average='micro'),\n",
    "        \n",
    "        \n",
    "    }\n",
    "    \n",
    "    # Calculate specificity (true negative rate)\n",
    "    specificity = tn / (tn + fp) if (tn + fp) != 0 else 0\n",
    "    metrics['Specificity'] = specificity\n",
    "    \n",
    "    # Round all metrics to 4 decimal places\n",
    "    return {k: round(v, 4) for k, v in metrics.items()}\n",
    "\n"
   ]
  },
  {
   "cell_type": "markdown",
   "id": "020097e6",
   "metadata": {
    "papermill": {
     "duration": 0.006591,
     "end_time": "2024-10-11T08:43:54.444873",
     "exception": false,
     "start_time": "2024-10-11T08:43:54.438282",
     "status": "completed"
    },
    "tags": []
   },
   "source": [
    "### multilabel function"
   ]
  },
  {
   "cell_type": "code",
   "execution_count": 4,
   "id": "dbf62912",
   "metadata": {
    "execution": {
     "iopub.execute_input": "2024-10-11T08:43:54.461064Z",
     "iopub.status.busy": "2024-10-11T08:43:54.460485Z",
     "iopub.status.idle": "2024-10-11T08:43:54.470720Z",
     "shell.execute_reply": "2024-10-11T08:43:54.469589Z"
    },
    "papermill": {
     "duration": 0.021372,
     "end_time": "2024-10-11T08:43:54.473349",
     "exception": false,
     "start_time": "2024-10-11T08:43:54.451977",
     "status": "completed"
    },
    "tags": []
   },
   "outputs": [],
   "source": [
    "def calculate_multilabel_metrics(df, true_columns, pred_columns):\n",
    "    \"\"\"\n",
    "    Calculate multilabel classification metrics for hate speech detection\n",
    "    \n",
    "    Parameters:\n",
    "    df: pandas DataFrame containing the dataset\n",
    "    true_columns: list of column names for true labels\n",
    "    pred_columns: list of column names for predicted labels\n",
    "    \n",
    "    Returns:\n",
    "    Dictionary containing all calculated metrics\n",
    "    \"\"\"\n",
    "    # Extract true and predicted labels\n",
    "    y_true = df[true_columns].values\n",
    "    y_pred = df[pred_columns].values\n",
    "    \n",
    "    # Calculate metrics\n",
    "    metrics = {\n",
    "        # 'F1_Micro': f1_score(y_true, y_pred, average='micro'),\n",
    "        'F1_Macro': f1_score(y_true, y_pred, average='macro'),\n",
    "\n",
    "        # 'Accuracy_Micro': accuracy_score(y_true.ravel(), y_pred.ravel()),\n",
    "        'Accuracy_Macro': np.mean([accuracy_score(y_true[:, i], y_pred[:, i]) \n",
    "                                  for i in range(y_true.shape[1])]),\n",
    "        \n",
    "        # 'Precision_Micro': precision_score(y_true, y_pred, average='micro'),\n",
    "        'Precision_Macro': precision_score(y_true, y_pred, average='macro'),\n",
    "        \n",
    "        # 'Recall_Micro': recall_score(y_true, y_pred, average='micro'),\n",
    "        'Recall_Macro': recall_score(y_true, y_pred, average='macro'),\n",
    "        \n",
    "        'Subset_Accuracy': accuracy_score(y_true, y_pred),\n",
    "        'Hamming_Loss': hamming_loss(y_true, y_pred)\n",
    "    }\n",
    "    \n",
    "    \n",
    "    return metrics"
   ]
  },
  {
   "cell_type": "markdown",
   "id": "6c669f96",
   "metadata": {
    "papermill": {
     "duration": 0.00673,
     "end_time": "2024-10-11T08:43:54.487125",
     "exception": false,
     "start_time": "2024-10-11T08:43:54.480395",
     "status": "completed"
    },
    "tags": []
   },
   "source": [
    "## binary"
   ]
  },
  {
   "cell_type": "markdown",
   "id": "bd29e9e7",
   "metadata": {
    "papermill": {
     "duration": 0.006664,
     "end_time": "2024-10-11T08:43:54.501956",
     "exception": false,
     "start_time": "2024-10-11T08:43:54.495292",
     "status": "completed"
    },
    "tags": []
   },
   "source": [
    "gpt4o_binary_few_shot_cot"
   ]
  },
  {
   "cell_type": "code",
   "execution_count": 5,
   "id": "8d192c37",
   "metadata": {
    "execution": {
     "iopub.execute_input": "2024-10-11T08:43:54.518701Z",
     "iopub.status.busy": "2024-10-11T08:43:54.517421Z",
     "iopub.status.idle": "2024-10-11T08:43:54.658029Z",
     "shell.execute_reply": "2024-10-11T08:43:54.656870Z"
    },
    "papermill": {
     "duration": 0.15162,
     "end_time": "2024-10-11T08:43:54.660584",
     "exception": false,
     "start_time": "2024-10-11T08:43:54.508964",
     "status": "completed"
    },
    "tags": []
   },
   "outputs": [
    {
     "data": {
      "text/plain": [
       "{'F1_Macro': 0.7019,\n",
       " 'Accuracy_Macro': 0.7384,\n",
       " 'Precision_Macro': 0.6945,\n",
       " 'Recall_Macro': 0.7216,\n",
       " 'Specificity': 0.7606}"
      ]
     },
     "execution_count": 5,
     "metadata": {},
     "output_type": "execute_result"
    }
   ],
   "source": [
    "df = pd.read_csv(\"/kaggle/input/gpt4o-outputs/gpt4o_outputs/binary_translation/output/gpt-4o/gpt4o__english_binary_test.csv\")\n",
    "# df\n",
    "y_true = df['Label']\n",
    "# # y_pred = df['is_hate'].astype(int)\n",
    "y_pred = df['is_hate']\n",
    "calculate_binary_metrics(y_true, y_pred)"
   ]
  },
  {
   "cell_type": "code",
   "execution_count": null,
   "id": "57e4c19f",
   "metadata": {
    "papermill": {
     "duration": 0.006797,
     "end_time": "2024-10-11T08:43:54.674865",
     "exception": false,
     "start_time": "2024-10-11T08:43:54.668068",
     "status": "completed"
    },
    "tags": []
   },
   "outputs": [],
   "source": []
  },
  {
   "cell_type": "markdown",
   "id": "11215de2",
   "metadata": {
    "papermill": {
     "duration": 0.006803,
     "end_time": "2024-10-11T08:43:54.688766",
     "exception": false,
     "start_time": "2024-10-11T08:43:54.681963",
     "status": "completed"
    },
    "tags": []
   },
   "source": [
    "## Multilabel"
   ]
  },
  {
   "cell_type": "code",
   "execution_count": 6,
   "id": "1184c9a2",
   "metadata": {
    "execution": {
     "iopub.execute_input": "2024-10-11T08:43:54.705180Z",
     "iopub.status.busy": "2024-10-11T08:43:54.704368Z",
     "iopub.status.idle": "2024-10-11T08:43:54.711374Z",
     "shell.execute_reply": "2024-10-11T08:43:54.710171Z"
    },
    "papermill": {
     "duration": 0.017844,
     "end_time": "2024-10-11T08:43:54.713812",
     "exception": false,
     "start_time": "2024-10-11T08:43:54.695968",
     "status": "completed"
    },
    "tags": []
   },
   "outputs": [],
   "source": [
    "true_columns = ['Political', 'Religious', 'Gender', 'Personal Offense', \n",
    "                    'Abusive/Violence', 'Origin', 'Body Shaming', 'Misc']\n",
    "pred_columns = ['political', 'religious', 'gender', 'personal', \n",
    "            'abusive_violent', 'origin', 'bodyshaming', 'misc']\n",
    "pred_columns_sifat = ['Pred_Political', 'Pred_Religious', 'Pred_Gender', 'Pred_Personal Offense', \n",
    "                    'Pred_Abusive/Violence', 'Pred_Origin', 'Pred_Body Shaming', 'Pred_Misc']"
   ]
  },
  {
   "cell_type": "code",
   "execution_count": 7,
   "id": "f7c2b54a",
   "metadata": {
    "execution": {
     "iopub.execute_input": "2024-10-11T08:43:54.730043Z",
     "iopub.status.busy": "2024-10-11T08:43:54.729163Z",
     "iopub.status.idle": "2024-10-11T08:43:54.793440Z",
     "shell.execute_reply": "2024-10-11T08:43:54.791835Z"
    },
    "papermill": {
     "duration": 0.075139,
     "end_time": "2024-10-11T08:43:54.796000",
     "exception": false,
     "start_time": "2024-10-11T08:43:54.720861",
     "status": "completed"
    },
    "tags": []
   },
   "outputs": [
    {
     "name": "stdout",
     "output_type": "stream",
     "text": [
      "F1_Macro: 0.3625\n",
      "Accuracy_Macro: 0.8354\n",
      "Precision_Macro: 0.3161\n",
      "Recall_Macro: 0.5332\n",
      "Subset_Accuracy: 0.2154\n",
      "Hamming_Loss: 0.1646\n"
     ]
    }
   ],
   "source": [
    "df = pd.read_csv(\"/kaggle/input/gpt4o-outputs/gpt4o_outputs/multilabel_translation/output/gpt-4o/gpt4o__bangla_multilabel.csv\")\n",
    "\n",
    "metrics = calculate_multilabel_metrics(df, true_columns, pred_columns)\n",
    "\n",
    "# Print metrics\n",
    "for metric, value in metrics.items():\n",
    "    print(f\"{metric}: {value:.4f}\")"
   ]
  },
  {
   "cell_type": "code",
   "execution_count": null,
   "id": "bc07e33c",
   "metadata": {
    "papermill": {
     "duration": 0.007001,
     "end_time": "2024-10-11T08:43:54.810241",
     "exception": false,
     "start_time": "2024-10-11T08:43:54.803240",
     "status": "completed"
    },
    "tags": []
   },
   "outputs": [],
   "source": []
  },
  {
   "cell_type": "code",
   "execution_count": 8,
   "id": "e522a5f4",
   "metadata": {
    "execution": {
     "iopub.execute_input": "2024-10-11T08:43:54.826480Z",
     "iopub.status.busy": "2024-10-11T08:43:54.826032Z",
     "iopub.status.idle": "2024-10-11T08:43:54.861794Z",
     "shell.execute_reply": "2024-10-11T08:43:54.860745Z"
    },
    "papermill": {
     "duration": 0.047208,
     "end_time": "2024-10-11T08:43:54.864613",
     "exception": false,
     "start_time": "2024-10-11T08:43:54.817405",
     "status": "completed"
    },
    "tags": []
   },
   "outputs": [],
   "source": [
    "df_indic_multi = pd.read_csv(\"/kaggle/input/banth-hate-multilabel/indicbert_multilabel_predictions.csv\")\n"
   ]
  },
  {
   "cell_type": "code",
   "execution_count": 9,
   "id": "33d63202",
   "metadata": {
    "execution": {
     "iopub.execute_input": "2024-10-11T08:43:54.882739Z",
     "iopub.status.busy": "2024-10-11T08:43:54.882241Z",
     "iopub.status.idle": "2024-10-11T08:43:54.890069Z",
     "shell.execute_reply": "2024-10-11T08:43:54.888980Z"
    },
    "papermill": {
     "duration": 0.020587,
     "end_time": "2024-10-11T08:43:54.892678",
     "exception": false,
     "start_time": "2024-10-11T08:43:54.872091",
     "status": "completed"
    },
    "tags": []
   },
   "outputs": [
    {
     "data": {
      "text/plain": [
       "Index(['Text', 'Label', 'Political', 'Religious', 'Gender', 'Personal Offense',\n",
       "       'Abusive/Violence', 'Origin', 'Body Shaming', 'Misc', 'bangla',\n",
       "       'english', 'Pred_label', 'Pred_Political', 'Pred_Religious',\n",
       "       'Pred_Gender', 'Pred_Personal Offense', 'Pred_Abusive/Violence',\n",
       "       'Pred_Origin', 'Pred_Body Shaming', 'Pred_Misc'],\n",
       "      dtype='object')"
      ]
     },
     "execution_count": 9,
     "metadata": {},
     "output_type": "execute_result"
    }
   ],
   "source": [
    "df_indic_multi.columns"
   ]
  },
  {
   "cell_type": "code",
   "execution_count": 10,
   "id": "c24913d4",
   "metadata": {
    "execution": {
     "iopub.execute_input": "2024-10-11T08:43:54.909391Z",
     "iopub.status.busy": "2024-10-11T08:43:54.908965Z",
     "iopub.status.idle": "2024-10-11T08:43:54.921430Z",
     "shell.execute_reply": "2024-10-11T08:43:54.920231Z"
    },
    "papermill": {
     "duration": 0.024259,
     "end_time": "2024-10-11T08:43:54.924369",
     "exception": false,
     "start_time": "2024-10-11T08:43:54.900110",
     "status": "completed"
    },
    "tags": []
   },
   "outputs": [],
   "source": [
    "df_indic_multi = df_indic_multi.dropna()\n",
    "df_indic_com = df_indic_multi[['Pred_label', 'Pred_Political', 'Pred_Religious',\n",
    "       'Pred_Gender', 'Pred_Personal Offense', 'Pred_Abusive/Violence',\n",
    "       'Pred_Origin', 'Pred_Body Shaming', 'Pred_Misc']]"
   ]
  },
  {
   "cell_type": "code",
   "execution_count": 11,
   "id": "cce4138b",
   "metadata": {
    "execution": {
     "iopub.execute_input": "2024-10-11T08:43:54.941053Z",
     "iopub.status.busy": "2024-10-11T08:43:54.940582Z",
     "iopub.status.idle": "2024-10-11T08:43:54.947986Z",
     "shell.execute_reply": "2024-10-11T08:43:54.946853Z"
    },
    "papermill": {
     "duration": 0.018547,
     "end_time": "2024-10-11T08:43:54.950426",
     "exception": false,
     "start_time": "2024-10-11T08:43:54.931879",
     "status": "completed"
    },
    "tags": []
   },
   "outputs": [
    {
     "data": {
      "text/plain": [
       "(937, 9)"
      ]
     },
     "execution_count": 11,
     "metadata": {},
     "output_type": "execute_result"
    }
   ],
   "source": [
    "df_indic_com.shape"
   ]
  },
  {
   "cell_type": "code",
   "execution_count": 12,
   "id": "11acf378",
   "metadata": {
    "execution": {
     "iopub.execute_input": "2024-10-11T08:43:54.967422Z",
     "iopub.status.busy": "2024-10-11T08:43:54.966960Z",
     "iopub.status.idle": "2024-10-11T08:43:55.035809Z",
     "shell.execute_reply": "2024-10-11T08:43:55.034664Z"
    },
    "papermill": {
     "duration": 0.080711,
     "end_time": "2024-10-11T08:43:55.038746",
     "exception": false,
     "start_time": "2024-10-11T08:43:54.958035",
     "status": "completed"
    },
    "tags": []
   },
   "outputs": [
    {
     "data": {
      "text/html": [
       "<div>\n",
       "<style scoped>\n",
       "    .dataframe tbody tr th:only-of-type {\n",
       "        vertical-align: middle;\n",
       "    }\n",
       "\n",
       "    .dataframe tbody tr th {\n",
       "        vertical-align: top;\n",
       "    }\n",
       "\n",
       "    .dataframe thead th {\n",
       "        text-align: right;\n",
       "    }\n",
       "</style>\n",
       "<table border=\"1\" class=\"dataframe\">\n",
       "  <thead>\n",
       "    <tr style=\"text-align: right;\">\n",
       "      <th></th>\n",
       "      <th>Text</th>\n",
       "      <th>Label</th>\n",
       "      <th>Political</th>\n",
       "      <th>Religious</th>\n",
       "      <th>Gender</th>\n",
       "      <th>Personal Offense</th>\n",
       "      <th>Abusive/Violence</th>\n",
       "      <th>Origin</th>\n",
       "      <th>Body Shaming</th>\n",
       "      <th>Misc</th>\n",
       "      <th>bangla</th>\n",
       "      <th>english</th>\n",
       "      <th>Pred_label</th>\n",
       "    </tr>\n",
       "  </thead>\n",
       "  <tbody>\n",
       "    <tr>\n",
       "      <th>3</th>\n",
       "      <td>Myb eta India cal parar meye</td>\n",
       "      <td>1</td>\n",
       "      <td>0</td>\n",
       "      <td>0</td>\n",
       "      <td>0</td>\n",
       "      <td>1</td>\n",
       "      <td>0</td>\n",
       "      <td>1</td>\n",
       "      <td>0</td>\n",
       "      <td>0</td>\n",
       "      <td>মেইবি এটা ইন্ডিয়া চাল পাড়ার মেয়ে</td>\n",
       "      <td>This is India rice girl.</td>\n",
       "      <td>1</td>\n",
       "    </tr>\n",
       "    <tr>\n",
       "      <th>9</th>\n",
       "      <td>Chup kor. Shongshod vobone student der lash pa...</td>\n",
       "      <td>0</td>\n",
       "      <td>0</td>\n",
       "      <td>0</td>\n",
       "      <td>0</td>\n",
       "      <td>0</td>\n",
       "      <td>0</td>\n",
       "      <td>0</td>\n",
       "      <td>0</td>\n",
       "      <td>0</td>\n",
       "      <td>চুপ কর।শংশদ ভয়েন স্টুডেন্ট দের চাবুক পাওয়া গ...</td>\n",
       "      <td>Shut up. The flogging of the Voyan students i...</td>\n",
       "      <td>1</td>\n",
       "    </tr>\n",
       "    <tr>\n",
       "      <th>15</th>\n",
       "      <td>Tur ma deshe asar sate sate ato gula kuner bic...</td>\n",
       "      <td>1</td>\n",
       "      <td>0</td>\n",
       "      <td>0</td>\n",
       "      <td>0</td>\n",
       "      <td>1</td>\n",
       "      <td>0</td>\n",
       "      <td>0</td>\n",
       "      <td>0</td>\n",
       "      <td>0</td>\n",
       "      <td>তুর মা দেশে আসার সাথে সাথে এত গুলা কানের মাশুল...</td>\n",
       "      <td>Your mother's arrival will cost you so many e...</td>\n",
       "      <td>1</td>\n",
       "    </tr>\n",
       "    <tr>\n",
       "      <th>26</th>\n",
       "      <td>Otey juta peta kortey kortey hospital thekey b...</td>\n",
       "      <td>1</td>\n",
       "      <td>0</td>\n",
       "      <td>0</td>\n",
       "      <td>0</td>\n",
       "      <td>0</td>\n",
       "      <td>1</td>\n",
       "      <td>0</td>\n",
       "      <td>0</td>\n",
       "      <td>0</td>\n",
       "      <td>ওইটায় জুতা পেটা করতে করতে হাসপাতাল থেকে বের ক...</td>\n",
       "      <td>Get her out of the hospital with shoes and li...</td>\n",
       "      <td>1</td>\n",
       "    </tr>\n",
       "    <tr>\n",
       "      <th>35</th>\n",
       "      <td>Etai hosse bokacoda magir digital desh.....</td>\n",
       "      <td>1</td>\n",
       "      <td>0</td>\n",
       "      <td>0</td>\n",
       "      <td>0</td>\n",
       "      <td>0</td>\n",
       "      <td>1</td>\n",
       "      <td>0</td>\n",
       "      <td>0</td>\n",
       "      <td>0</td>\n",
       "      <td>এটাই হচ্ছে বোকাচোদা ম্যাজিক ডিজিটাল দেশ.....</td>\n",
       "      <td>This is the stupid magic digital country...</td>\n",
       "      <td>1</td>\n",
       "    </tr>\n",
       "    <tr>\n",
       "      <th>...</th>\n",
       "      <td>...</td>\n",
       "      <td>...</td>\n",
       "      <td>...</td>\n",
       "      <td>...</td>\n",
       "      <td>...</td>\n",
       "      <td>...</td>\n",
       "      <td>...</td>\n",
       "      <td>...</td>\n",
       "      <td>...</td>\n",
       "      <td>...</td>\n",
       "      <td>...</td>\n",
       "      <td>...</td>\n",
       "      <td>...</td>\n",
       "    </tr>\n",
       "    <tr>\n",
       "      <th>3718</th>\n",
       "      <td>policer mare sody</td>\n",
       "      <td>1</td>\n",
       "      <td>0</td>\n",
       "      <td>0</td>\n",
       "      <td>0</td>\n",
       "      <td>1</td>\n",
       "      <td>0</td>\n",
       "      <td>0</td>\n",
       "      <td>0</td>\n",
       "      <td>0</td>\n",
       "      <td>পুলিশ মারে সোডি</td>\n",
       "      <td>Police Mare Sody</td>\n",
       "      <td>1</td>\n",
       "    </tr>\n",
       "    <tr>\n",
       "      <th>3719</th>\n",
       "      <td>Karap meye ekta</td>\n",
       "      <td>1</td>\n",
       "      <td>0</td>\n",
       "      <td>0</td>\n",
       "      <td>0</td>\n",
       "      <td>1</td>\n",
       "      <td>0</td>\n",
       "      <td>0</td>\n",
       "      <td>0</td>\n",
       "      <td>0</td>\n",
       "      <td>করপ মেয়ে একটা</td>\n",
       "      <td>She's a woman.</td>\n",
       "      <td>1</td>\n",
       "    </tr>\n",
       "    <tr>\n",
       "      <th>3720</th>\n",
       "      <td>Sala osir kolija ki duita, take gonodulai deya...</td>\n",
       "      <td>1</td>\n",
       "      <td>0</td>\n",
       "      <td>0</td>\n",
       "      <td>0</td>\n",
       "      <td>0</td>\n",
       "      <td>1</td>\n",
       "      <td>0</td>\n",
       "      <td>0</td>\n",
       "      <td>0</td>\n",
       "      <td>শালা ওসির কুলিজা কি দুইটা, তাকে গনদুলাই দেয়া...</td>\n",
       "      <td>What the hell is OC's Kulija, let's get him a...</td>\n",
       "      <td>1</td>\n",
       "    </tr>\n",
       "    <tr>\n",
       "      <th>3727</th>\n",
       "      <td>This is Gopali.......🍌🍌🍌🍌</td>\n",
       "      <td>0</td>\n",
       "      <td>0</td>\n",
       "      <td>0</td>\n",
       "      <td>0</td>\n",
       "      <td>0</td>\n",
       "      <td>0</td>\n",
       "      <td>0</td>\n",
       "      <td>0</td>\n",
       "      <td>0</td>\n",
       "      <td>দিস ইজ গোপালি.....🍌🍌🍌🍌</td>\n",
       "      <td>This is Gopali...🍌🍌🍌🍌</td>\n",
       "      <td>1</td>\n",
       "    </tr>\n",
       "    <tr>\n",
       "      <th>3733</th>\n",
       "      <td>Akta baje mohila oni</td>\n",
       "      <td>1</td>\n",
       "      <td>0</td>\n",
       "      <td>0</td>\n",
       "      <td>0</td>\n",
       "      <td>1</td>\n",
       "      <td>0</td>\n",
       "      <td>0</td>\n",
       "      <td>0</td>\n",
       "      <td>0</td>\n",
       "      <td>একটা বাজে মহিলা উনি</td>\n",
       "      <td>She's a bad woman.</td>\n",
       "      <td>1</td>\n",
       "    </tr>\n",
       "  </tbody>\n",
       "</table>\n",
       "<p>937 rows × 13 columns</p>\n",
       "</div>"
      ],
      "text/plain": [
       "                                                   Text  Label  Political  \\\n",
       "3                          Myb eta India cal parar meye      1          0   \n",
       "9     Chup kor. Shongshod vobone student der lash pa...      0          0   \n",
       "15    Tur ma deshe asar sate sate ato gula kuner bic...      1          0   \n",
       "26    Otey juta peta kortey kortey hospital thekey b...      1          0   \n",
       "35          Etai hosse bokacoda magir digital desh.....      1          0   \n",
       "...                                                 ...    ...        ...   \n",
       "3718                                  policer mare sody      1          0   \n",
       "3719                                    Karap meye ekta      1          0   \n",
       "3720  Sala osir kolija ki duita, take gonodulai deya...      1          0   \n",
       "3727                          This is Gopali.......🍌🍌🍌🍌      0          0   \n",
       "3733                               Akta baje mohila oni      1          0   \n",
       "\n",
       "      Religious  Gender  Personal Offense  Abusive/Violence  Origin  \\\n",
       "3             0       0                 1                 0       1   \n",
       "9             0       0                 0                 0       0   \n",
       "15            0       0                 1                 0       0   \n",
       "26            0       0                 0                 1       0   \n",
       "35            0       0                 0                 1       0   \n",
       "...         ...     ...               ...               ...     ...   \n",
       "3718          0       0                 1                 0       0   \n",
       "3719          0       0                 1                 0       0   \n",
       "3720          0       0                 0                 1       0   \n",
       "3727          0       0                 0                 0       0   \n",
       "3733          0       0                 1                 0       0   \n",
       "\n",
       "      Body Shaming  Misc                                             bangla  \\\n",
       "3                0     0                   মেইবি এটা ইন্ডিয়া চাল পাড়ার মেয়ে   \n",
       "9                0     0  চুপ কর।শংশদ ভয়েন স্টুডেন্ট দের চাবুক পাওয়া গ...   \n",
       "15               0     0  তুর মা দেশে আসার সাথে সাথে এত গুলা কানের মাশুল...   \n",
       "26               0     0  ওইটায় জুতা পেটা করতে করতে হাসপাতাল থেকে বের ক...   \n",
       "35               0     0       এটাই হচ্ছে বোকাচোদা ম্যাজিক ডিজিটাল দেশ.....   \n",
       "...            ...   ...                                                ...   \n",
       "3718             0     0                                    পুলিশ মারে সোডি   \n",
       "3719             0     0                                     করপ মেয়ে একটা   \n",
       "3720             0     0   শালা ওসির কুলিজা কি দুইটা, তাকে গনদুলাই দেয়া...   \n",
       "3727             0     0                             দিস ইজ গোপালি.....🍌🍌🍌🍌   \n",
       "3733             0     0                                একটা বাজে মহিলা উনি   \n",
       "\n",
       "                                                english  Pred_label  \n",
       "3                              This is India rice girl.           1  \n",
       "9      Shut up. The flogging of the Voyan students i...           1  \n",
       "15     Your mother's arrival will cost you so many e...           1  \n",
       "26     Get her out of the hospital with shoes and li...           1  \n",
       "35          This is the stupid magic digital country...           1  \n",
       "...                                                 ...         ...  \n",
       "3718                                   Police Mare Sody           1  \n",
       "3719                                     She's a woman.           1  \n",
       "3720   What the hell is OC's Kulija, let's get him a...           1  \n",
       "3727                              This is Gopali...🍌🍌🍌🍌           1  \n",
       "3733                                 She's a bad woman.           1  \n",
       "\n",
       "[937 rows x 13 columns]"
      ]
     },
     "execution_count": 12,
     "metadata": {},
     "output_type": "execute_result"
    }
   ],
   "source": [
    "df_indic_bin = pd.read_csv(\"/kaggle/input/banth-hate-multilabel/mbert-hate-test.csv\")\n",
    "df_indic_bin = df_indic_bin[df_indic_bin['Pred_label']==1]\n",
    "df_indic_bin"
   ]
  },
  {
   "cell_type": "code",
   "execution_count": null,
   "id": "36a7560d",
   "metadata": {
    "papermill": {
     "duration": 0.007948,
     "end_time": "2024-10-11T08:43:55.055666",
     "exception": false,
     "start_time": "2024-10-11T08:43:55.047718",
     "status": "completed"
    },
    "tags": []
   },
   "outputs": [],
   "source": []
  }
 ],
 "metadata": {
  "kaggle": {
   "accelerator": "none",
   "dataSources": [
    {
     "datasetId": 5854427,
     "sourceId": 9597152,
     "sourceType": "datasetVersion"
    },
    {
     "datasetId": 5854584,
     "sourceId": 9597384,
     "sourceType": "datasetVersion"
    },
    {
     "datasetId": 5842390,
     "sourceId": 9599240,
     "sourceType": "datasetVersion"
    },
    {
     "datasetId": 5762134,
     "sourceId": 9531894,
     "sourceType": "datasetVersion"
    }
   ],
   "dockerImageVersionId": 30786,
   "isGpuEnabled": false,
   "isInternetEnabled": true,
   "language": "python",
   "sourceType": "notebook"
  },
  "kernelspec": {
   "display_name": "Python 3",
   "language": "python",
   "name": "python3"
  },
  "language_info": {
   "codemirror_mode": {
    "name": "ipython",
    "version": 3
   },
   "file_extension": ".py",
   "mimetype": "text/x-python",
   "name": "python",
   "nbconvert_exporter": "python",
   "pygments_lexer": "ipython3",
   "version": "3.10.14"
  },
  "papermill": {
   "default_parameters": {},
   "duration": 7.234018,
   "end_time": "2024-10-11T08:43:55.685493",
   "environment_variables": {},
   "exception": null,
   "input_path": "__notebook__.ipynb",
   "output_path": "__notebook__.ipynb",
   "parameters": {},
   "start_time": "2024-10-11T08:43:48.451475",
   "version": "2.6.0"
  }
 },
 "nbformat": 4,
 "nbformat_minor": 5
}
